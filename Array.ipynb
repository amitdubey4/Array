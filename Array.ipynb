{
 "cells": [
  {
   "cell_type": "raw",
   "id": "2336731a-946e-4a2a-8bfc-005563eabea4",
   "metadata": {},
   "source": [
    "1. Given an array, check if it contains any duplicates or not.\n",
    "arr = [1, 2, 4, 2, 5, 9]\n",
    "Output = True"
   ]
  },
  {
   "cell_type": "code",
   "execution_count": 5,
   "id": "844bfd45-a751-40e8-9fc6-fdcf9d943d4a",
   "metadata": {},
   "outputs": [
    {
     "name": "stdout",
     "output_type": "stream",
     "text": [
      "False\n"
     ]
    }
   ],
   "source": [
    "def checkDuplicates(arr):\n",
    "    n = len(arr)\n",
    "    arr1 = set(arr)\n",
    "    if len(arr) != len(arr1):\n",
    "        return True\n",
    "    return False\n",
    "\n",
    "\n",
    "arr = [1, 4, 2, 5, 9]\n",
    "print(checkDuplicates(arr))"
   ]
  },
  {
   "cell_type": "raw",
   "id": "e54036b9-19ff-48e8-ad6f-a65de36f75c3",
   "metadata": {},
   "source": [
    "Given an array and an integer k, rotate the array to the right by k steps.\n",
    "arr = [1, 2, 3, 4, 5, 6, 7]\n",
    "k = 3\n",
    "Output = [5, 6, 7, 1, 2, 3, 4]\n"
   ]
  },
  {
   "cell_type": "code",
   "execution_count": 2,
   "id": "855ca98f-c348-49bc-8fca-60d69d0da216",
   "metadata": {},
   "outputs": [
    {
     "name": "stdout",
     "output_type": "stream",
     "text": [
      "[5, 6, 7, 1, 2, 3, 4]\n"
     ]
    }
   ],
   "source": [
    "#time complexity O(1)\n",
    "#space complexity O(n)\n",
    "arr1 = []\n",
    "def rotateArrray(arr, k):\n",
    "    arr1 = arr[len(arr)-k:]\n",
    "    arr1 = arr1 + arr[:len(arr)-k]\n",
    "    print(arr1)\n",
    "\n",
    "arr = [1, 2, 3, 4, 5, 6, 7]\n",
    "k = 3\n",
    "rotateArrray(arr, k)"
   ]
  },
  {
   "cell_type": "raw",
   "id": "804a9cb6-c7ca-4ccd-a69b-3dc47364d271",
   "metadata": {},
   "source": [
    "Reverse the given array in-place, means without using any extra data structure.\n",
    "arr = [2, 4, 5, 7, 9, 12]\n",
    "Output = [12, 9, 7, 5, 4, 2]\n"
   ]
  },
  {
   "cell_type": "code",
   "execution_count": 5,
   "id": "c64ea0a4-4447-41f4-a6fb-ae5aa9bdefe3",
   "metadata": {},
   "outputs": [
    {
     "name": "stdout",
     "output_type": "stream",
     "text": [
      "[9, 7, 5, 4, 2]\n"
     ]
    }
   ],
   "source": [
    "#time complexity: O(n)\n",
    "#space complexity: O(1)\n",
    "def reverseArr(arr):\n",
    "    j = len(arr)-1\n",
    "    i = 0\n",
    "    \n",
    "    while i<j:\n",
    "        t = arr[i]\n",
    "        arr[i] = arr[j]\n",
    "        arr[j] = t\n",
    "        i +=1\n",
    "        j -=1\n",
    "    return arr\n",
    "\n",
    "arr = [2, 4, 5, 7, 9]\n",
    "print(reverseArr(arr))"
   ]
  },
  {
   "cell_type": "raw",
   "id": "a30f43f0-b66f-4d68-a90e-faa2e61150c6",
   "metadata": {},
   "source": [
    "Given an array of integers, find the maximum element in an array\n",
    "arr = [10, 5, 20, 8, 15]\n",
    "Output = 20\n"
   ]
  },
  {
   "cell_type": "code",
   "execution_count": 10,
   "id": "c192df83-3bad-4554-9085-ef288d4513c8",
   "metadata": {},
   "outputs": [
    {
     "name": "stdout",
     "output_type": "stream",
     "text": [
      "20\n"
     ]
    }
   ],
   "source": [
    "def FindMax(arr):\n",
    "    max_value = arr[0]\n",
    "    for i in range(len(arr)):\n",
    "        if max_value< arr[i]:\n",
    "            max_value = arr[i]\n",
    "            \n",
    "    return max_value\n",
    "\n",
    "arr = [10, 5, 20, 8, 15]\n",
    "print(FindMax(arr))"
   ]
  },
  {
   "cell_type": "raw",
   "id": "69fe0809-7101-45b6-afe7-46a89564de83",
   "metadata": {},
   "source": [
    "Given a sorted array, remove the duplicate element without using any extra data structure.\n",
    "arr = [1, 1, 2, 2, 2, 3, 3, 4, 4, 4, 5, 5]\n",
    "Output = [1, 2, 3, 4, 5]\n"
   ]
  },
  {
   "cell_type": "code",
   "execution_count": 16,
   "id": "d548deb7-59c3-4061-b29d-ebc8e4565c7c",
   "metadata": {},
   "outputs": [
    {
     "name": "stdout",
     "output_type": "stream",
     "text": [
      "[1, 2, 3, 4, 5]\n"
     ]
    }
   ],
   "source": [
    "#time complexicity: O(n)\n",
    "#space complexity: O(1)\n",
    "def removeDuplicate(arr):\n",
    "    i = 0 \n",
    "    while i<len(arr)-1:\n",
    "        if arr[i]==arr[i+1]:\n",
    "            arr.remove(arr[i])\n",
    "        else:\n",
    "            i +=1\n",
    "    return arr\n",
    "\n",
    "arr = [1, 1, 2, 2, 2, 3, 3, 4, 4, 4, 5, 5]\n",
    "print(removeDuplicate(arr))"
   ]
  },
  {
   "cell_type": "code",
   "execution_count": null,
   "id": "3f472ab4-d69e-4bf5-8fe9-25712bba4e85",
   "metadata": {},
   "outputs": [],
   "source": []
  }
 ],
 "metadata": {
  "kernelspec": {
   "display_name": "Python 3 (ipykernel)",
   "language": "python",
   "name": "python3"
  },
  "language_info": {
   "codemirror_mode": {
    "name": "ipython",
    "version": 3
   },
   "file_extension": ".py",
   "mimetype": "text/x-python",
   "name": "python",
   "nbconvert_exporter": "python",
   "pygments_lexer": "ipython3",
   "version": "3.10.8"
  }
 },
 "nbformat": 4,
 "nbformat_minor": 5
}
